{
 "cells": [
  {
   "cell_type": "code",
   "execution_count": 6,
   "metadata": {},
   "outputs": [],
   "source": [
    "import yagmail\n",
    "import pandas as pd\n",
    "import os\n",
    "import glob"
   ]
  },
  {
   "cell_type": "code",
   "execution_count": null,
   "metadata": {},
   "outputs": [],
   "source": [
    "# === НАСТРОЙКИ ===\n",
    "your_email = \"\" # ваша почта\n",
    "app_password = \"\" # ваш пароль приложения (настраивается через yandex id в разделе безопасность)\n",
    "folder_with_attachments = \"attachments\" # название папки с вложениями\n",
    "cc_list = [\"\"]  # ← адреса в копии"
   ]
  },
  {
   "cell_type": "code",
   "execution_count": null,
   "metadata": {},
   "outputs": [],
   "source": [
    "# Текст письма\n",
    "body_text = \"\"\"\n",
    "Какой-то текст\n",
    "\"\"\""
   ]
  },
  {
   "cell_type": "code",
   "execution_count": 9,
   "metadata": {},
   "outputs": [],
   "source": [
    "# Авторизация\n",
    "yag = yagmail.SMTP(user=your_email, password=app_password, host=\"smtp.yandex.ru\", port=465, smtp_ssl=True)"
   ]
  },
  {
   "cell_type": "code",
   "execution_count": null,
   "metadata": {},
   "outputs": [],
   "source": [
    "# Загрузка данных\n",
    "df = pd.read_excel(\"recipients.xlsx\")\n",
    "\n",
    "# === Предварительный сбор адресов и вложений ===\n",
    "recipients_data = []\n",
    "\n",
    "for index, row in df.iterrows():\n",
    "    email = row[\"Email\"]\n",
    "    identifier = str(row[\"Идентификатор\"]).strip()\n",
    "\n",
    "    # Поиск всех PDF-файлов в подпапке\n",
    "    search_path = os.path.join(folder_with_attachments, identifier, \"*.pdf\")\n",
    "    attachments = glob.glob(search_path)\n",
    "    attachments = [f for f in attachments if f.lower().endswith(\".pdf\")]\n",
    "\n",
    "    recipients_data.append({\n",
    "        \"email\": email,\n",
    "        \"identifier\": identifier,\n",
    "        \"attachments\": attachments\n",
    "    })\n",
    "\n",
    "# === Печать таблицы перед отправкой ===\n",
    "print(\"📋 Предпросмотр рассылки и найденных вложений:\")\n",
    "for r in recipients_data:\n",
    "    print(f\"\\n📨 {r['email']} (ID: {r['identifier']})\")\n",
    "    if r['attachments']:\n",
    "        for f in r['attachments']:\n",
    "            print(\"  -\", os.path.basename(f))\n",
    "    else:\n",
    "        print(\"  ⚠️ Вложений не найдено\")"
   ]
  },
  {
   "cell_type": "code",
   "execution_count": null,
   "metadata": {},
   "outputs": [],
   "source": [
    "# Рассылка писем\n",
    "for index, row in df.iterrows():\n",
    "    email = row[\"Email\"]\n",
    "    identifier = row[\"Идентификатор\"]\n",
    "\n",
    "    # Поиск файлов\n",
    "    attachments = glob.glob(os.path.join(folder_with_attachments, identifier, \"*.pdf\"))\n",
    "\n",
    "    if not attachments:\n",
    "        print(f\"⚠️ Нет вложений для: {email}\")\n",
    "        continue\n",
    "\n",
    "    # Отправка письма\n",
    "    try:\n",
    "        yag.send(\n",
    "            to=email,\n",
    "            cc=cc_list,\n",
    "            subject=\"\", # здесь тема письма\n",
    "            contents=body_text,\n",
    "            attachments=attachments\n",
    "        )\n",
    "        print(f\"✅ Успешно отправлено: {email}\")\n",
    "    except Exception as e:\n",
    "        print(f\"❌ Ошибка при отправке на {email}: {str(e)}\")\n",
    "\n",
    "print(\"📬 Рассылка завершена.\")"
   ]
  }
 ],
 "metadata": {
  "kernelspec": {
   "display_name": "venv",
   "language": "python",
   "name": "python3"
  },
  "language_info": {
   "codemirror_mode": {
    "name": "ipython",
    "version": 3
   },
   "file_extension": ".py",
   "mimetype": "text/x-python",
   "name": "python",
   "nbconvert_exporter": "python",
   "pygments_lexer": "ipython3",
   "version": "3.10.11"
  }
 },
 "nbformat": 4,
 "nbformat_minor": 2
}
